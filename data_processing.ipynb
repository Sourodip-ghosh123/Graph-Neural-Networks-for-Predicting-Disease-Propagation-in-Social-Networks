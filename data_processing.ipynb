{
  "nbformat": 4,
  "nbformat_minor": 0,
  "metadata": {
    "colab": {
      "provenance": []
    },
    "kernelspec": {
      "name": "python3",
      "display_name": "Python 3"
    },
    "language_info": {
      "name": "python"
    }
  },
  "cells": [
    {
      "cell_type": "code",
      "execution_count": null,
      "metadata": {
        "id": "tDChix9dUTuH"
      },
      "outputs": [],
      "source": [
        "import pandas as pd\n",
        "import networkx as nx\n",
        "from networkx.convert_matrix import from_numpy_matrix\n",
        "import numpy as np\n",
        "from sklearn.preprocessing import MinMaxScaler"
      ]
    },
    {
      "cell_type": "code",
      "source": [
        "raw_data = pd.read_csv('data/raw/social_network_data.csv')"
      ],
      "metadata": {
        "id": "hNnvzF-uUgx4"
      },
      "execution_count": null,
      "outputs": []
    },
    {
      "cell_type": "code",
      "source": [
        "raw_data['weight'] = MinMaxScaler().fit_transform(raw_data[['interaction_frequency']])\n",
        "G = nx.from_pandas_edgelist(raw_data, 'source', 'target', edge_attr=True)\n",
        "nx.write_gpickle(G, \"data/graphs/social_network_graph.gpickle\")"
      ],
      "metadata": {
        "id": "BFe3Lvo6UlWJ"
      },
      "execution_count": null,
      "outputs": []
    }
  ]
}