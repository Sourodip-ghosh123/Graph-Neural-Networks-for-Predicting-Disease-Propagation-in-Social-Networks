{
  "nbformat": 4,
  "nbformat_minor": 0,
  "metadata": {
    "colab": {
      "provenance": []
    },
    "kernelspec": {
      "name": "python3",
      "display_name": "Python 3"
    },
    "language_info": {
      "name": "python"
    }
  },
  "cells": [
    {
      "cell_type": "code",
      "execution_count": null,
      "metadata": {
        "id": "tDChix9dUTuH"
      },
      "outputs": [],
      "source": [
        "import matplotlib.pyplot as plt\n",
        "import torch\n",
        "from sklearn.metrics import confusion_matrix, accuracy_score\n",
        "import seaborn as sns\n",
        "from models import GNN"
      ]
    },
    {
      "cell_type": "code",
      "source": [
        "model = GNN(in_channels=data.num_node_features, hidden_channels=16, out_channels=2)\n",
        "model.load_state_dict(torch.load('src/model.pth'))\n",
        "model.eval()"
      ],
      "metadata": {
        "id": "hNnvzF-uUgx4"
      },
      "execution_count": null,
      "outputs": []
    },
    {
      "cell_type": "code",
      "source": [
        "pred = model(data.x, data.edge_index).max(1)[1]\n",
        "acc = accuracy_score(data.y.cpu(), pred.cpu())\n",
        "print(f'Accuracy: {acc:.4f}')"
      ],
      "metadata": {
        "id": "BFe3Lvo6UlWJ"
      },
      "execution_count": null,
      "outputs": []
    },
    {
      "cell_type": "code",
      "source": [
        "cm = confusion_matrix(data.y.cpu(), pred.cpu())\n",
        "sns.heatmap(cm, annot=True, fmt='d', cmap='Blues')\n",
        "plt.xlabel('Predicted')\n",
        "plt.ylabel('True')\n",
        "plt.show()"
      ],
      "metadata": {
        "id": "Sb6zzMpMVl3O"
      },
      "execution_count": null,
      "outputs": []
    }
  ]
}